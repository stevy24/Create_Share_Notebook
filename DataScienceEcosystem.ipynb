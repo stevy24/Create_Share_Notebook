{
 "cells": [
  {
   "cell_type": "markdown",
   "id": "fddf68d0",
   "metadata": {},
   "source": [
    "### Exercise 2: Create markdown cell with title of the notebook"
   ]
  },
  {
   "cell_type": "markdown",
   "id": "dc627237",
   "metadata": {},
   "source": [
    "# Data Science Tools and Ecosystem"
   ]
  },
  {
   "cell_type": "markdown",
   "id": "32366623",
   "metadata": {},
   "source": [
    "### Exercise 3 - Create a markdown cell for an introduction"
   ]
  },
  {
   "cell_type": "markdown",
   "id": "d9e5d771",
   "metadata": {},
   "source": [
    "In this notebook, Data Science Tools and Ecosystem are summarized."
   ]
  },
  {
   "cell_type": "markdown",
   "id": "2e6bd628",
   "metadata": {},
   "source": [
    "### Exercise 4 - Create a markdown cell to list data science languages"
   ]
  },
  {
   "cell_type": "markdown",
   "id": "d5b0be3b",
   "metadata": {},
   "source": [
    "Some of the popular languages that Data Scientists use are:\n",
    "\n",
    "   1 - Java                                \n",
    "            \n",
    "   2 - Java-ML                              \n",
    "            \n",
    "   3 - JavaScript                           \n",
    "            \n",
    "   4 - Julia  \n",
    "   \n",
    "   5 - MongoDB                              \n",
    "            \n",
    "   6 - R                                   \n",
    "            \n",
    "   7 - SQL                                \n",
    "            \n",
    "   8 - Weka                                 "
   ]
  },
  {
   "cell_type": "markdown",
   "id": "3281e864",
   "metadata": {},
   "source": [
    "### Exercise 5 - Create a markdown cell to list data science libraries"
   ]
  },
  {
   "cell_type": "markdown",
   "id": "23677300",
   "metadata": {},
   "source": [
    "Some of the commonly used libraries used by Data Scientists include:\n",
    "\n",
    "   1 - ggplot2\n",
    "   \n",
    "   2 - Lattice\n",
    "   \n",
    "   3 - Leaflet\n",
    "   \n",
    "   4 - Matplotlib\n",
    "   \n",
    "   5 - NumPy\n",
    "   \n",
    "   6 - Pandas\n",
    "   \n",
    "   7 - TensorFlow"
   ]
  },
  {
   "cell_type": "markdown",
   "id": "bc7da452",
   "metadata": {},
   "source": [
    "### Exercise 6 - Create a markdown cell with a table of Data Science tools"
   ]
  },
  {
   "cell_type": "markdown",
   "id": "dda407d7",
   "metadata": {},
   "source": [
    "| Data Science Tools |\n",
    "|--------------------|\n",
    "|JupyterLab          |\n",
    "|                    |\n",
    "|Juypyter notebook   |\n",
    "|                    |\n",
    "|Spyder              |\n",
    "\n",
    "   \n",
    "                "
   ]
  },
  {
   "cell_type": "markdown",
   "id": "d2ea8ad3",
   "metadata": {},
   "source": [
    "### Exercise 7 - Create a markdown cell introducing arithmetic expression examples"
   ]
  },
  {
   "cell_type": "markdown",
   "id": "37d66385",
   "metadata": {},
   "source": [
    "### Below are a few examples of evaluating arithmetic expressions in Python"
   ]
  },
  {
   "cell_type": "markdown",
   "id": "5e055ea9",
   "metadata": {},
   "source": [
    "### Exercise 8 - Create a code cell to multiply and add numbers"
   ]
  },
  {
   "cell_type": "code",
   "execution_count": 1,
   "id": "43988608",
   "metadata": {},
   "outputs": [
    {
     "data": {
      "text/plain": [
       "17"
      ]
     },
     "execution_count": 1,
     "metadata": {},
     "output_type": "execute_result"
    }
   ],
   "source": [
    "# This a simple arithmetic expression to mutiply then add integers\n",
    "(3*4)+5"
   ]
  },
  {
   "cell_type": "markdown",
   "id": "36ef70e3",
   "metadata": {},
   "source": [
    "### Exercise 9 - Create a code cell to convert minutes to hours"
   ]
  },
  {
   "cell_type": "code",
   "execution_count": 2,
   "id": "9e113ed5",
   "metadata": {},
   "outputs": [
    {
     "name": "stdout",
     "output_type": "stream",
     "text": [
      "Enter time in minutes200\n",
      "Hours= 3\n",
      "Minutes= 20\n"
     ]
    }
   ],
   "source": [
    "# This will convert 200 minutes to hours by diving by 60\n",
    "min=int(input(\"Enter time in minutes\"))\n",
    "h=min//60\n",
    "m=min%60\n",
    "print(\"Hours=\",h)\n",
    "print(\"Minutes=\",m)"
   ]
  },
  {
   "cell_type": "markdown",
   "id": "17fb97df",
   "metadata": {},
   "source": [
    "### Exercise 10 - Insert a markdown cell to list Objectives"
   ]
  },
  {
   "cell_type": "markdown",
   "id": "97476a34",
   "metadata": {},
   "source": [
    "**Objectives:**\n",
    ". Python\n",
    ". Julia\n",
    ". Scala"
   ]
  },
  {
   "cell_type": "markdown",
   "id": "b677a71e",
   "metadata": {},
   "source": [
    "### Exercise 11 - Create a markdown cell to indicate the Author's name"
   ]
  },
  {
   "cell_type": "markdown",
   "id": "a0cb870f",
   "metadata": {},
   "source": [
    "## Author\n",
    "    Stevy Makoumbou"
   ]
  },
  {
   "cell_type": "code",
   "execution_count": null,
   "id": "26587154",
   "metadata": {},
   "outputs": [],
   "source": []
  }
 ],
 "metadata": {
  "kernelspec": {
   "display_name": "Python 3 (ipykernel)",
   "language": "python",
   "name": "python3"
  },
  "language_info": {
   "codemirror_mode": {
    "name": "ipython",
    "version": 3
   },
   "file_extension": ".py",
   "mimetype": "text/x-python",
   "name": "python",
   "nbconvert_exporter": "python",
   "pygments_lexer": "ipython3",
   "version": "3.11.5"
  }
 },
 "nbformat": 4,
 "nbformat_minor": 5
}
